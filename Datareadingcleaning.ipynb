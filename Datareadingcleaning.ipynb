{
 "cells": [
  {
   "cell_type": "code",
   "execution_count": 1,
   "metadata": {},
   "outputs": [
    {
     "name": "stdout",
     "output_type": "stream",
     "text": [
      "Requirement already satisfied: xlrd in c:\\users\\jpcan\\appdata\\local\\programs\\python\\python311\\lib\\site-packages (2.0.1)Note: you may need to restart the kernel to use updated packages.\n",
      "\n"
     ]
    },
    {
     "name": "stderr",
     "output_type": "stream",
     "text": [
      "\n",
      "[notice] A new release of pip is available: 23.3.2 -> 24.0\n",
      "[notice] To update, run: python.exe -m pip install --upgrade pip\n"
     ]
    },
    {
     "name": "stdout",
     "output_type": "stream",
     "text": [
      "0 ID LIMIT_BAL SEX EDUCATION MARRIAGE AGE PAY_0 PAY_2 PAY_3 PAY_4  ...  \\\n",
      "1  1     20000   2         2        1  24     2     2    -1    -1  ...   \n",
      "2  2    120000   2         2        2  26    -1     2     0     0  ...   \n",
      "3  3     90000   2         2        2  34     0     0     0     0  ...   \n",
      "4  4     50000   2         2        1  37     0     0     0     0  ...   \n",
      "5  5     50000   1         2        1  57    -1     0    -1     0  ...   \n",
      "\n",
      "0 BILL_AMT4 BILL_AMT5 BILL_AMT6 PAY_AMT1 PAY_AMT2 PAY_AMT3 PAY_AMT4 PAY_AMT5  \\\n",
      "1         0         0         0        0      689        0        0        0   \n",
      "2      3272      3455      3261        0     1000     1000     1000        0   \n",
      "3     14331     14948     15549     1518     1500     1000     1000     1000   \n",
      "4     28314     28959     29547     2000     2019     1200     1100     1069   \n",
      "5     20940     19146     19131     2000    36681    10000     9000      689   \n",
      "\n",
      "0 PAY_AMT6 default payment next month  \n",
      "1        0                          1  \n",
      "2     2000                          1  \n",
      "3     5000                          0  \n",
      "4     1000                          0  \n",
      "5      679                          0  \n",
      "\n",
      "[5 rows x 25 columns]\n"
     ]
    }
   ],
   "source": [
    "import pandas as pd\n",
    "%pip install xlrd\n",
    "\n",
    "# Especifica la ruta de tu archivo Excel\n",
    "ruta_excel = \"C:/Users/jpcan/OneDrive/Documentos/Andes Universidad/Analitica computacional/Proyecto 2/Copia de default of credit card clients.xls\"\n",
    "\n",
    "# Lee el archivo Excel en un DataFrame de pandas\n",
    "datos_excel = pd.read_excel(ruta_excel, sheet_name=\"Data\")\n",
    "\n",
    "datos_excel.columns = datos_excel.iloc[0]\n",
    "\n",
    "# Elimina la primera fila, ya que ahora son los nombres de las columnas\n",
    "datos_excel = datos_excel[1:]\n",
    "\n",
    "# Muestra los primeros cinco registros para verificar\n",
    "print(datos_excel.head())"
   ]
  },
  {
   "cell_type": "code",
   "execution_count": 3,
   "metadata": {},
   "outputs": [
    {
     "name": "stdout",
     "output_type": "stream",
     "text": [
      "0\n",
      "ID                            0\n",
      "LIMIT_BAL                     0\n",
      "SEX                           0\n",
      "EDUCATION                     0\n",
      "MARRIAGE                      0\n",
      "AGE                           0\n",
      "PAY_0                         0\n",
      "PAY_2                         0\n",
      "PAY_3                         0\n",
      "PAY_4                         0\n",
      "PAY_5                         0\n",
      "PAY_6                         0\n",
      "BILL_AMT1                     0\n",
      "BILL_AMT2                     0\n",
      "BILL_AMT3                     0\n",
      "BILL_AMT4                     0\n",
      "BILL_AMT5                     0\n",
      "BILL_AMT6                     0\n",
      "PAY_AMT1                      0\n",
      "PAY_AMT2                      0\n",
      "PAY_AMT3                      0\n",
      "PAY_AMT4                      0\n",
      "PAY_AMT5                      0\n",
      "PAY_AMT6                      0\n",
      "default payment next month    0\n",
      "dtype: int64\n"
     ]
    }
   ],
   "source": [
    "import pandas as pd\n",
    "\n",
    "# Supongamos que 'df' es tu DataFrame\n",
    "# df = pd.read_excel(\"ruta/a/tu/archivo.xlsx\")\n",
    "\n",
    "# Verifica si hay valores faltantes en cada columna\n",
    "valores_faltantes_por_columna = datos_excel.isna().sum()\n",
    "\n",
    "# También puedes usar df.isnull().sum() para el mismo propósito\n",
    "\n",
    "# Muestra el resultado\n",
    "print(valores_faltantes_por_columna)"
   ]
  },
  {
   "cell_type": "code",
   "execution_count": 4,
   "metadata": {},
   "outputs": [
    {
     "name": "stdout",
     "output_type": "stream",
     "text": [
      "0\n",
      "ID                                0\n",
      "LIMIT_BAL                         0\n",
      "SEX                               0\n",
      "EDUCATION                        14\n",
      "MARRIAGE                         54\n",
      "AGE                               0\n",
      "PAY_0                         14737\n",
      "PAY_2                         15730\n",
      "PAY_3                         15764\n",
      "PAY_4                         16455\n",
      "PAY_5                         16947\n",
      "PAY_6                         16286\n",
      "BILL_AMT1                      2008\n",
      "BILL_AMT2                      2506\n",
      "BILL_AMT3                      2870\n",
      "BILL_AMT4                      3195\n",
      "BILL_AMT5                      3506\n",
      "BILL_AMT6                      4020\n",
      "PAY_AMT1                       5249\n",
      "PAY_AMT2                       5396\n",
      "PAY_AMT3                       5968\n",
      "PAY_AMT4                       6408\n",
      "PAY_AMT5                       6703\n",
      "PAY_AMT6                       7173\n",
      "default payment next month    23364\n",
      "dtype: int64\n"
     ]
    }
   ],
   "source": [
    "import pandas as pd\n",
    "\n",
    "# Supongamos que 'datos_excel' es tu DataFrame\n",
    "# datos_excel = pd.read_excel(\"ruta/a/tu/archivo.xlsx\")\n",
    "\n",
    "# Verifica cuántos valores son iguales a 0 en cada columna\n",
    "valores_cero_por_columna = (datos_excel == 0).sum()\n",
    "\n",
    "# Muestra el resultado\n",
    "print(valores_cero_por_columna)\n",
    "\n",
    "#Revisar los 0 en Education, Marriage, en los PAY\n",
    "#Revisar Pay que hay valores de -2 (Si es menos asumirlo como -1 o que fue un mystipping)\n"
   ]
  },
  {
   "cell_type": "code",
   "execution_count": 10,
   "metadata": {},
   "outputs": [
    {
     "name": "stdout",
     "output_type": "stream",
     "text": [
      "Cantidad de valores atípicos en EDUCATION: 0\n",
      "Índices de valores atípicos en EDUCATION: []\n",
      "\n",
      "Cantidad de valores atípicos en MARRIAGE: 0\n",
      "Índices de valores atípicos en MARRIAGE: []\n",
      "Valores atípicos en EDUCATION: []\n",
      "Valores atípicos en MARRIAGE: []\n"
     ]
    }
   ],
   "source": [
    "# Verificar valores fuera de los límites en la columna \"EDUCATION\"\n",
    "valores_fuera_limite_educacion = datos_excel[~datos_excel['EDUCATION'].isin([1, 2, 3, 4])]\n",
    "indices_atipicos_educacion = valores_fuera_limite_educacion.index.tolist()\n",
    "\n",
    "# Verificar valores fuera de los límites en la columna \"MARRIAGE\"\n",
    "valores_fuera_limite_matrimonio = datos_excel[~datos_excel['MARRIAGE'].isin([1, 2, 3])]\n",
    "indices_atipicos_matrimonio = valores_fuera_limite_matrimonio.index.tolist()\n",
    "\n",
    "# Mostrar los resultados\n",
    "print(\"Cantidad de valores atípicos en EDUCATION:\", len(valores_fuera_limite_educacion))\n",
    "print(\"Índices de valores atípicos en EDUCATION:\", indices_atipicos_educacion)\n",
    "\n",
    "print(\"\\nCantidad de valores atípicos en MARRIAGE:\", len(valores_fuera_limite_matrimonio))\n",
    "print(\"Índices de valores atípicos en MARRIAGE:\", indices_atipicos_matrimonio)\n",
    "\n",
    "# Verificar valores fuera de los límites en la columna \"EDUCATION\"\n",
    "valores_atipicos_educacion = datos_excel[~datos_excel['EDUCATION'].isin([1, 2, 3, 4])]['EDUCATION'].unique()\n",
    "\n",
    "# Verificar valores fuera de los límites en la columna \"MARRIAGE\"\n",
    "valores_atipicos_matrimonio = datos_excel[~datos_excel['MARRIAGE'].isin([1, 2, 3])]['MARRIAGE'].unique()\n",
    "\n",
    "# Mostrar los resultados\n",
    "print(\"Valores atípicos en EDUCATION:\", valores_atipicos_educacion)\n",
    "print(\"Valores atípicos en MARRIAGE:\", valores_atipicos_matrimonio)\n",
    "\n",
    "#Ya que al fin de cuentas son valores categoricos, pasarlos todos a others?\n",
    "\n",
    "\n"
   ]
  },
  {
   "cell_type": "code",
   "execution_count": 9,
   "metadata": {},
   "outputs": [],
   "source": [
    "# Eliminar filas con valores atípicos en la columna \"EDUCATION\"\n",
    "datos_excel = datos_excel[datos_excel['EDUCATION'].isin([1, 2, 3, 4])]\n",
    "\n",
    "# Eliminar filas con valores atípicos en la columna \"MARRIAGE\"\n",
    "datos_excel = datos_excel[datos_excel['MARRIAGE'].isin([1, 2, 3])]\n",
    "\n",
    "# Reindexar el DataFrame si es necesario\n",
    "datos_excel.reset_index(drop=True, inplace=True)\n"
   ]
  },
  {
   "cell_type": "code",
   "execution_count": 12,
   "metadata": {},
   "outputs": [
    {
     "name": "stdout",
     "output_type": "stream",
     "text": [
      "Valores atípicos en PAY_1 : [ 0 -2]\n",
      "Valores atípicos en PAY_2 : [ 0 -2]\n",
      "Valores atípicos en PAY_3 : [ 0 -2]\n",
      "Valores atípicos en PAY_4 : [ 0 -2]\n",
      "Valores atípicos en PAY_5 : [-2  0]\n",
      "Valores atípicos en PAY_6 : [-2  0]\n"
     ]
    }
   ],
   "source": [
    "# Lista de valores permitidos\n",
    "valores_permitidos = [-1, 1, 2, 3, 4, 5, 6, 7, 8, 9]\n",
    "\n",
    "# Verificar valores fuera de los límites en las columnas PAY_0 a PAY_6\n",
    "for columna in ['PAY_1', 'PAY_2', 'PAY_3', 'PAY_4', 'PAY_5', 'PAY_6']:\n",
    "    valores_atipicos = datos_excel[~datos_excel[columna].isin(valores_permitidos)][columna].unique()\n",
    "    print(\"Valores atípicos en\", columna, \":\", valores_atipicos)\n",
    "\n",
    "\n"
   ]
  },
  {
   "cell_type": "code",
   "execution_count": 13,
   "metadata": {},
   "outputs": [
    {
     "name": "stdout",
     "output_type": "stream",
     "text": [
      "Número de filas con valores atípicos en PAY_1 : 17207\n",
      "Número de filas con valores atípicos en PAY_2 : 19198\n",
      "Número de filas con valores atípicos en PAY_3 : 19545\n",
      "Número de filas con valores atípicos en PAY_4 : 20491\n",
      "Número de filas con valores atípicos en PAY_5 : 21163\n",
      "Número de filas con valores atípicos en PAY_6 : 20859\n",
      "Total de filas con valores atípicos en las columnas PAY_0 a PAY_6: 118463\n"
     ]
    }
   ],
   "source": [
    "# Lista de valores permitidos\n",
    "valores_permitidos = [-1, 1, 2, 3, 4, 5, 6, 7, 8, 9]\n",
    "\n",
    "# Contador para el total de filas con valores atípicos\n",
    "total_filas_atipicas = 0\n",
    "\n",
    "# Verificar valores fuera de los límites en las columnas PAY_0 a PAY_6\n",
    "for columna in ['PAY_1', 'PAY_2', 'PAY_3', 'PAY_4', 'PAY_5', 'PAY_6']:\n",
    "    valores_atipicos = datos_excel[~datos_excel[columna].isin(valores_permitidos)][columna]\n",
    "    num_filas_atipicas = len(valores_atipicos)\n",
    "    total_filas_atipicas += num_filas_atipicas\n",
    "    print(\"Número de filas con valores atípicos en\", columna, \":\", num_filas_atipicas)\n",
    "\n",
    "print(\"Total de filas con valores atípicos en las columnas PAY_0 a PAY_6:\", total_filas_atipicas)\n"
   ]
  },
  {
   "cell_type": "code",
   "execution_count": 7,
   "metadata": {},
   "outputs": [
    {
     "name": "stdout",
     "output_type": "stream",
     "text": [
      "0 ID LIMIT_BAL SEX EDUCATION MARRIAGE AGE PAY_1 PAY_2 PAY_3 PAY_4  ...  \\\n",
      "1  1     20000   2         2        1  24     2     2    -1    -1  ...   \n",
      "2  2    120000   2         2        2  26    -1     2     0     0  ...   \n",
      "3  3     90000   2         2        2  34     0     0     0     0  ...   \n",
      "4  4     50000   2         2        1  37     0     0     0     0  ...   \n",
      "5  5     50000   1         2        1  57    -1     0    -1     0  ...   \n",
      "\n",
      "0 BILL_AMT4 BILL_AMT5 BILL_AMT6 PAY_AMT1 PAY_AMT2 PAY_AMT3 PAY_AMT4 PAY_AMT5  \\\n",
      "1         0         0         0        0      689        0        0        0   \n",
      "2      3272      3455      3261        0     1000     1000     1000        0   \n",
      "3     14331     14948     15549     1518     1500     1000     1000     1000   \n",
      "4     28314     28959     29547     2000     2019     1200     1100     1069   \n",
      "5     20940     19146     19131     2000    36681    10000     9000      689   \n",
      "\n",
      "0 PAY_AMT6 default payment next month  \n",
      "1        0                          1  \n",
      "2     2000                          1  \n",
      "3     5000                          0  \n",
      "4     1000                          0  \n",
      "5      679                          0  \n",
      "\n",
      "[5 rows x 25 columns]\n"
     ]
    }
   ],
   "source": [
    "# Cambiar el nombre de la columna \"PAY_0\" a \"PAY_1\"\n",
    "datos_excel = datos_excel.rename(columns={\"PAY_0\": \"PAY_1\"})\n",
    "\n",
    "# Mostrar el DataFrame con el nombre de la columna cambiado\n",
    "print(datos_excel.head())"
   ]
  },
  {
   "cell_type": "code",
   "execution_count": 8,
   "metadata": {},
   "outputs": [
    {
     "name": "stdout",
     "output_type": "stream",
     "text": [
      "0                ID       LIMIT_BAL           SEX     EDUCATION      MARRIAGE  \\\n",
      "count  30000.000000    30000.000000  30000.000000  30000.000000  30000.000000   \n",
      "mean   15000.500000   167484.322667      1.603733      1.853133      1.551867   \n",
      "std     8660.398374   129747.661567      0.489129      0.790349      0.521970   \n",
      "min        1.000000    10000.000000      1.000000      0.000000      0.000000   \n",
      "25%     7500.750000    50000.000000      1.000000      1.000000      1.000000   \n",
      "50%    15000.500000   140000.000000      2.000000      2.000000      2.000000   \n",
      "75%    22500.250000   240000.000000      2.000000      2.000000      2.000000   \n",
      "max    30000.000000  1000000.000000      2.000000      6.000000      3.000000   \n",
      "\n",
      "0               AGE         PAY_1         PAY_2         PAY_3         PAY_4  \\\n",
      "count  30000.000000  30000.000000  30000.000000  30000.000000  30000.000000   \n",
      "mean      35.485500     -0.016700     -0.133767     -0.166200     -0.220667   \n",
      "std        9.217904      1.123802      1.197186      1.196868      1.169139   \n",
      "min       21.000000     -2.000000     -2.000000     -2.000000     -2.000000   \n",
      "25%       28.000000     -1.000000     -1.000000     -1.000000     -1.000000   \n",
      "50%       34.000000      0.000000      0.000000      0.000000      0.000000   \n",
      "75%       41.000000      0.000000      0.000000      0.000000      0.000000   \n",
      "max       79.000000      8.000000      8.000000      8.000000      8.000000   \n",
      "\n",
      "0      ...      BILL_AMT4      BILL_AMT5      BILL_AMT6       PAY_AMT1  \\\n",
      "count  ...   30000.000000   30000.000000   30000.000000   30000.000000   \n",
      "mean   ...   43262.948967   40311.400967   38871.760400    5663.580500   \n",
      "std    ...   64332.856134   60797.155770   59554.107537   16563.280354   \n",
      "min    ... -170000.000000  -81334.000000 -339603.000000       0.000000   \n",
      "25%    ...    2326.750000    1763.000000    1256.000000    1000.000000   \n",
      "50%    ...   19052.000000   18104.500000   17071.000000    2100.000000   \n",
      "75%    ...   54506.000000   50190.500000   49198.250000    5006.000000   \n",
      "max    ...  891586.000000  927171.000000  961664.000000  873552.000000   \n",
      "\n",
      "0          PAY_AMT2      PAY_AMT3       PAY_AMT4       PAY_AMT5  \\\n",
      "count  3.000000e+04   30000.00000   30000.000000   30000.000000   \n",
      "mean   5.921163e+03    5225.68150    4826.076867    4799.387633   \n",
      "std    2.304087e+04   17606.96147   15666.159744   15278.305679   \n",
      "min    0.000000e+00       0.00000       0.000000       0.000000   \n",
      "25%    8.330000e+02     390.00000     296.000000     252.500000   \n",
      "50%    2.009000e+03    1800.00000    1500.000000    1500.000000   \n",
      "75%    5.000000e+03    4505.00000    4013.250000    4031.500000   \n",
      "max    1.684259e+06  896040.00000  621000.000000  426529.000000   \n",
      "\n",
      "0           PAY_AMT6  default payment next month  \n",
      "count   30000.000000                30000.000000  \n",
      "mean     5215.502567                    0.221200  \n",
      "std     17777.465775                    0.415062  \n",
      "min         0.000000                    0.000000  \n",
      "25%       117.750000                    0.000000  \n",
      "50%      1500.000000                    0.000000  \n",
      "75%      4000.000000                    0.000000  \n",
      "max    528666.000000                    1.000000  \n",
      "\n",
      "[8 rows x 25 columns]\n"
     ]
    }
   ],
   "source": [
    "# Convertir todas las columnas a tipos de datos numéricos\n",
    "datos_excel = datos_excel.apply(pd.to_numeric, errors='coerce')\n",
    "\n",
    "# Obtener el análisis descriptivo del DataFrame\n",
    "analisis_descriptivo = datos_excel.describe()\n",
    "\n",
    "# Mostrar el análisis descriptivo\n",
    "print(analisis_descriptivo)\n",
    "\n",
    "#Se deberian mirar esas desviaciones tal altas?"
   ]
  }
 ],
 "metadata": {
  "kernelspec": {
   "display_name": "Python 3",
   "language": "python",
   "name": "python3"
  },
  "language_info": {
   "codemirror_mode": {
    "name": "ipython",
    "version": 3
   },
   "file_extension": ".py",
   "mimetype": "text/x-python",
   "name": "python",
   "nbconvert_exporter": "python",
   "pygments_lexer": "ipython3",
   "version": "3.11.7"
  }
 },
 "nbformat": 4,
 "nbformat_minor": 2
}
