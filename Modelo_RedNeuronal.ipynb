{
 "cells": [
  {
   "cell_type": "code",
   "execution_count": 1,
   "metadata": {},
   "outputs": [],
   "source": [
    "import pandas as pd\n",
    "#% pip install xlrd\n",
    "\n",
    "# Especifica la ruta de tu archivo Excel\n",
    "ruta_excel = \"C:/Users/jpcan/OneDrive/Documentos/Andes Universidad/Analitica computacional/Proyecto 2/Copia de default of credit card clients.xls\"\n",
    "\n",
    "# Lee el archivo Excel en un DataFrame de pandas\n",
    "datos_excel = pd.read_excel(ruta_excel, sheet_name=\"Data\")\n",
    "\n",
    "datos_excel.columns = datos_excel.iloc[0]\n",
    "\n",
    "# Elimina la primera fila, ya que ahora son los nombres de las columnas\n",
    "datos_excel = datos_excel[1:]\n",
    "\n",
    "\n",
    "import pandas as pd\n",
    "\n",
    "# Supongamos que 'df' es tu DataFrame\n",
    "# df = pd.read_excel(\"ruta/a/tu/archivo.xlsx\")\n",
    "\n",
    "# Verifica si hay valores faltantes en cada columna\n",
    "valores_faltantes_por_columna = datos_excel.isna().sum()\n",
    "\n",
    "# También puedes usar df.isnull().sum() para el mismo propósito\n",
    "\n",
    "import pandas as pd\n",
    "\n",
    "# Supongamos que 'datos_excel' es tu DataFrame\n",
    "# datos_excel = pd.read_excel(\"ruta/a/tu/archivo.xlsx\")\n",
    "\n",
    "# Eliminar filas con valores atípicos en la columna \"EDUCATION\"\n",
    "datos_excel = datos_excel[datos_excel['EDUCATION'].isin([1, 2, 3, 4])]\n",
    "\n",
    "# Eliminar filas con valores atípicos en la columna \"MARRIAGE\"\n",
    "datos_excel = datos_excel[datos_excel['MARRIAGE'].isin([1, 2, 3])]\n",
    "\n",
    "# Reindexar el DataFrame si es necesario\n",
    "datos_excel.reset_index(drop=True, inplace=True)\n",
    "\n",
    "# Cambiar el nombre de la columna \"PAY_0\" a \"PAY_1\"\n",
    "datos_excel = datos_excel.rename(columns={\"PAY_0\": \"PAY_1\"})\n",
    "\n",
    "# Convertir todas las columnas a tipos de datos numéricos\n",
    "datos_excel = datos_excel.apply(pd.to_numeric, errors='coerce')\n",
    "\n"
   ]
  },
  {
   "cell_type": "code",
   "execution_count": null,
   "metadata": {},
   "outputs": [],
   "source": []
  }
 ],
 "metadata": {
  "kernelspec": {
   "display_name": "Python 3",
   "language": "python",
   "name": "python3"
  },
  "language_info": {
   "codemirror_mode": {
    "name": "ipython",
    "version": 3
   },
   "file_extension": ".py",
   "mimetype": "text/x-python",
   "name": "python",
   "nbconvert_exporter": "python",
   "pygments_lexer": "ipython3",
   "version": "3.11.7"
  }
 },
 "nbformat": 4,
 "nbformat_minor": 2
}
